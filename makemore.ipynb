{
 "cells": [
  {
   "cell_type": "code",
   "execution_count": 1,
   "metadata": {},
   "outputs": [],
   "source": [
    "%reload_ext autoreload\n",
    "%autoreload 2"
   ]
  },
  {
   "cell_type": "code",
   "execution_count": 2,
   "metadata": {},
   "outputs": [],
   "source": [
    "import os\n",
    "\n",
    "import torch\n",
    "\n",
    "from src.data.names import Names\n",
    "from src.config import DATA_DIR, ROOT_DIR"
   ]
  },
  {
   "attachments": {},
   "cell_type": "markdown",
   "metadata": {},
   "source": [
    "# Data"
   ]
  },
  {
   "cell_type": "code",
   "execution_count": 3,
   "metadata": {},
   "outputs": [],
   "source": [
    "files = [\n",
    "    filename\n",
    "    for filename in os.listdir(DATA_DIR)\n",
    "    if filename.endswith(\".txt\") and filename.startswith(\"yob\")\n",
    "]"
   ]
  },
  {
   "cell_type": "code",
   "execution_count": 4,
   "metadata": {},
   "outputs": [],
   "source": [
    "files.sort()"
   ]
  },
  {
   "cell_type": "code",
   "execution_count": 5,
   "metadata": {},
   "outputs": [],
   "source": [
    "all_data = {}\n",
    "for filename in files:\n",
    "    # print(filename)\n",
    "    year = int(filename[3:7])\n",
    "    with open(DATA_DIR / filename) as f:\n",
    "        for line in f:\n",
    "            line_data = line.strip().lower().split(\",\")\n",
    "            if line_data[1] == \"f\":\n",
    "                if line_data[0] in all_data:\n",
    "                    all_data[line_data[0]] += float(line_data[2]) * (\n",
    "                        1 + (year - 1880) / 142\n",
    "                    )\n",
    "                else:\n",
    "                    all_data[line_data[0]] = float(line_data[2]) * (\n",
    "                        1.0 + (year - 1880) / 142\n",
    "                    )"
   ]
  },
  {
   "cell_type": "code",
   "execution_count": 6,
   "metadata": {},
   "outputs": [],
   "source": [
    "with open(DATA_DIR / \"all_names.txt\", \"w\") as f:\n",
    "    for name, count in all_data.items():\n",
    "        f.write(f\"{name},{count}\\n\")"
   ]
  },
  {
   "cell_type": "code",
   "execution_count": 7,
   "metadata": {},
   "outputs": [],
   "source": [
    "female_names = Names()\n",
    "female_names.read_file(DATA_DIR / \"all_names.txt\", counts=True)"
   ]
  },
  {
   "cell_type": "code",
   "execution_count": 8,
   "metadata": {},
   "outputs": [],
   "source": [
    "female_names.train_test_split(0.8)"
   ]
  },
  {
   "cell_type": "code",
   "execution_count": 9,
   "metadata": {},
   "outputs": [
    {
     "data": {
      "text/plain": [
       "4.016192704928459"
      ]
     },
     "execution_count": 9,
     "metadata": {},
     "output_type": "execute_result"
    }
   ],
   "source": [
    "sum(female_names.train.values()) / sum(female_names.test.values())"
   ]
  },
  {
   "cell_type": "code",
   "execution_count": 10,
   "metadata": {},
   "outputs": [
    {
     "name": "stdout",
     "output_type": "stream",
     "text": [
      "Max length:  15\n",
      "Min length:  2\n",
      "Avg length:  6.022801094407072\n"
     ]
    },
    {
     "data": {
      "image/png": "[encoded data removed]",
      "text/plain": [
       "<Figure size 640x480 with 1 Axes>"
      ]
     },
     "metadata": {},
     "output_type": "display_data"
    }
   ],
   "source": [
    "female_names.eda()"
   ]
  },
  {
   "attachments": {},
   "cell_type": "markdown",
   "metadata": {},
   "source": [
    "# Bigram model"
   ]
  },
  {
   "cell_type": "code",
   "execution_count": 11,
   "metadata": {},
   "outputs": [],
   "source": [
    "from src.bigram.bigram import BigramModel"
   ]
  },
  {
   "cell_type": "code",
   "execution_count": 12,
   "metadata": {},
   "outputs": [],
   "source": [
    "model = BigramModel(names=female_names)\n",
    "model.train()\n",
    "# model.visualise()"
   ]
  },
  {
   "cell_type": "code",
   "execution_count": 13,
   "metadata": {},
   "outputs": [],
   "source": [
    "torch.save(model, ROOT_DIR / \"models\" / \"bigram.pt\")"
   ]
  },
  {
   "attachments": {},
   "cell_type": "markdown",
   "metadata": {},
   "source": [
    "# Prediction with bigram model"
   ]
  },
  {
   "cell_type": "code",
   "execution_count": 14,
   "metadata": {},
   "outputs": [],
   "source": [
    "model = torch.load(ROOT_DIR / \"models\" / \"bigram.pt\")"
   ]
  },
  {
   "cell_type": "code",
   "execution_count": 15,
   "metadata": {},
   "outputs": [],
   "source": [
    "generator = torch.Generator().manual_seed(36)"
   ]
  },
  {
   "cell_type": "code",
   "execution_count": 17,
   "metadata": {},
   "outputs": [
    {
     "name": "stdout",
     "output_type": "stream",
     "text": [
      "rimbinelicahanandiziane\n",
      "arllme\n",
      "jonellabi\n",
      "chary\n",
      "hadra\n",
      "rl\n",
      "liae\n",
      "bethi\n",
      "chnenen\n",
      "re\n",
      "ve\n",
      "a\n",
      "ananetha\n",
      "e\n",
      "kiststyshautha\n",
      "mabrodalyst\n",
      "abelliaren\n",
      "habrexasta\n",
      "matatenda\n",
      "ty\n",
      "stosiennranerizie\n",
      "bel\n",
      "andilinan\n",
      "leliadilllariratena\n",
      "mia\n",
      "ja\n",
      "na\n",
      "mbra\n",
      "cqutauty\n",
      "dindepamorikelliahnethithananeavawn\n"
     ]
    }
   ],
   "source": [
    "for _ in range(30):\n",
    "    print(model.predict(generator=generator))"
   ]
  },
  {
   "attachments": {},
   "cell_type": "markdown",
   "metadata": {},
   "source": [
    "# Calculating losses"
   ]
  },
  {
   "cell_type": "code",
   "execution_count": 18,
   "metadata": {},
   "outputs": [
    {
     "data": {
      "text/plain": [
       "{'baseline_train_loss': tensor(3.2958),\n",
       " 'baseline_test_loss': tensor(3.2958),\n",
       " 'model_train_loss': tensor(2.2321),\n",
       " 'model_test_loss': tensor(2.2627)}"
      ]
     },
     "execution_count": 18,
     "metadata": {},
     "output_type": "execute_result"
    }
   ],
   "source": [
    "model.evaluate()"
   ]
  },
  {
   "cell_type": "code",
   "execution_count": 24,
   "metadata": {},
   "outputs": [
    {
     "data": {
      "text/plain": [
       "tensor(2.6981)"
      ]
     },
     "execution_count": 24,
     "metadata": {},
     "output_type": "execute_result"
    }
   ],
   "source": [
    "random_bigram_array = model.create_bigram_array({\"ruby\": 1})\n",
    "model.loss(random_bigram_array, model.bigram_probs)"
   ]
  },
  {
   "attachments": {},
   "cell_type": "markdown",
   "metadata": {},
   "source": [
    "# Bigram Neural Net"
   ]
  },
  {
   "cell_type": "code",
   "execution_count": 25,
   "metadata": {},
   "outputs": [],
   "source": [
    "from src.nnet.nnet import BigramNnet"
   ]
  },
  {
   "cell_type": "code",
   "execution_count": 27,
   "metadata": {},
   "outputs": [
    {
     "ename": "AttributeError",
     "evalue": "type object 'BigramModel' has no attribute 'create_bigram_list'",
     "output_type": "error",
     "traceback": [
      "\u001b[0;31m---------------------------------------------------------------------------\u001b[0m",
      "\u001b[0;31mAttributeError\u001b[0m                            Traceback (most recent call last)",
      "Cell \u001b[0;32mIn[27], line 2\u001b[0m\n\u001b[1;32m      1\u001b[0m bigram_nnet \u001b[39m=\u001b[39m BigramNnet(names\u001b[39m=\u001b[39mfemale_names)\n\u001b[0;32m----> 2\u001b[0m bigram_nnet\u001b[39m.\u001b[39;49mget_data()\n",
      "File \u001b[0;32m~/code/makemore/src/nnet/nnet.py:31\u001b[0m, in \u001b[0;36mBigramNnet.get_data\u001b[0;34m(self)\u001b[0m\n\u001b[1;32m     30\u001b[0m \u001b[39mdef\u001b[39;00m \u001b[39mget_data\u001b[39m(\u001b[39mself\u001b[39m):\n\u001b[0;32m---> 31\u001b[0m     \u001b[39mself\u001b[39m\u001b[39m.\u001b[39mx_train, \u001b[39mself\u001b[39m\u001b[39m.\u001b[39my_train \u001b[39m=\u001b[39m \u001b[39mself\u001b[39;49m\u001b[39m.\u001b[39;49mcreate_bigram_tensors(\u001b[39mself\u001b[39;49m\u001b[39m.\u001b[39;49mnames\u001b[39m.\u001b[39;49mtrain)\n\u001b[1;32m     32\u001b[0m     \u001b[39mself\u001b[39m\u001b[39m.\u001b[39mx_test, \u001b[39mself\u001b[39m\u001b[39m.\u001b[39my_test \u001b[39m=\u001b[39m \u001b[39mself\u001b[39m\u001b[39m.\u001b[39mcreate_bigram_tensors(\u001b[39mself\u001b[39m\u001b[39m.\u001b[39mnames\u001b[39m.\u001b[39mtest)\n",
      "File \u001b[0;32m~/code/makemore/src/nnet/nnet.py:36\u001b[0m, in \u001b[0;36mBigramNnet.create_bigram_tensors\u001b[0;34m(self, names)\u001b[0m\n\u001b[1;32m     34\u001b[0m \u001b[39mdef\u001b[39;00m \u001b[39mcreate_bigram_tensors\u001b[39m(\u001b[39mself\u001b[39m, names: \u001b[39mlist\u001b[39m[\u001b[39mstr\u001b[39m]) \u001b[39m-\u001b[39m\u001b[39m>\u001b[39m \u001b[39mtuple\u001b[39m[torch\u001b[39m.\u001b[39mTensor]:\n\u001b[1;32m     35\u001b[0m     x, y \u001b[39m=\u001b[39m [], []\n\u001b[0;32m---> 36\u001b[0m     bigrams \u001b[39m=\u001b[39m BigramModel\u001b[39m.\u001b[39;49mcreate_bigram_list(names)\n\u001b[1;32m     37\u001b[0m     \u001b[39mfor\u001b[39;00m bigram \u001b[39min\u001b[39;00m bigrams:\n\u001b[1;32m     38\u001b[0m         x\u001b[39m.\u001b[39mappend(\u001b[39mself\u001b[39m\u001b[39m.\u001b[39mbigram\u001b[39m.\u001b[39mchar2index[bigram[\u001b[39m0\u001b[39m]])\n",
      "\u001b[0;31mAttributeError\u001b[0m: type object 'BigramModel' has no attribute 'create_bigram_list'"
     ]
    }
   ],
   "source": [
    "bigram_nnet = BigramNnet(names=female_names)\n",
    "bigram_nnet.get_data()"
   ]
  },
  {
   "cell_type": "code",
   "execution_count": 97,
   "metadata": {},
   "outputs": [
    {
     "data": {
      "text/plain": [
       "tensor([[0.0063, 0.0079, 0.0034,  ..., 0.0296, 0.0099, 0.0260],\n",
       "        [0.0247, 0.0691, 0.0036,  ..., 0.0106, 0.0350, 0.0299],\n",
       "        [0.0176, 0.0147, 0.0333,  ..., 0.0154, 0.0269, 0.0407],\n",
       "        ...,\n",
       "        [0.0167, 0.0351, 0.0187,  ..., 0.0482, 0.0318, 0.0446],\n",
       "        [0.0176, 0.0147, 0.0333,  ..., 0.0154, 0.0269, 0.0407],\n",
       "        [0.0127, 0.0109, 0.0093,  ..., 0.0238, 0.0248, 0.0436]],\n",
       "       grad_fn=<SoftmaxBackward0>)"
      ]
     },
     "execution_count": 97,
     "metadata": {},
     "output_type": "execute_result"
    }
   ],
   "source": [
    "bigram_nnet.forward(bigram_nnet.x_train)"
   ]
  },
  {
   "cell_type": "code",
   "execution_count": null,
   "metadata": {},
   "outputs": [],
   "source": [
    "# Single layer, 28 neurons\n",
    "generator = torch.Generator().manual_seed(36)\n",
    "n_neurons = 28\n",
    "layer = torch.randn((28, n_neurons), generator=generator, requires_grad=True)"
   ]
  },
  {
   "cell_type": "code",
   "execution_count": null,
   "metadata": {},
   "outputs": [
    {
     "data": {
      "text/plain": [
       "tensor(3.8369, grad_fn=<DivBackward0>)"
      ]
     },
     "execution_count": 113,
     "metadata": {},
     "output_type": "execute_result"
    }
   ],
   "source": [
    "# Forward pass\n",
    "def forward(layer, xenc, y, reg=0.0):\n",
    "    \"\"\"Forward pass of a single layer.\"\"\"\n",
    "    # Neuron activations\n",
    "    output = xenc @ layer  # (n_samples x 28) @ (28 x n_neurons) = n_samples x n_neurons\n",
    "    # Softmax for probs\n",
    "    probs = torch.softmax(output, dim=1)\n",
    "    # CCE Loss\n",
    "    # Extract probabilities for correct characters (i.e. each character in y)\n",
    "    # for each row (each value in the arange), extract the yth value\n",
    "    prob_correct = probs[torch.arange(len(y)), y]\n",
    "    # log the probs and take the negative and mean. Add L2 regularisation\n",
    "    loss = -1 * torch.log(prob_correct).sum() / len(y) + reg * torch.sum(layer**2)\n",
    "    return loss\n",
    "\n",
    "\n",
    "loss = forward(layer, xenc, y)\n",
    "loss"
   ]
  },
  {
   "cell_type": "code",
   "execution_count": null,
   "metadata": {},
   "outputs": [],
   "source": [
    "# Training\n",
    "loss_history = [loss.item()]"
   ]
  },
  {
   "cell_type": "code",
   "execution_count": null,
   "metadata": {},
   "outputs": [],
   "source": [
    "# Backward pass\n",
    "layer.grad = None\n",
    "loss.backward()"
   ]
  },
  {
   "cell_type": "code",
   "execution_count": null,
   "metadata": {},
   "outputs": [],
   "source": [
    "# Update weights\n",
    "layer.data -= 0.1 * layer.grad"
   ]
  },
  {
   "cell_type": "code",
   "execution_count": null,
   "metadata": {},
   "outputs": [],
   "source": [
    "loss2 = forward(layer, xenc, y)\n",
    "loss_history.append(loss2.item())"
   ]
  },
  {
   "cell_type": "code",
   "execution_count": null,
   "metadata": {},
   "outputs": [
    {
     "name": "stdout",
     "output_type": "stream",
     "text": [
      "Loss at iteration 0: 2.27\n",
      "Loss at iteration 1000: 2.27\n",
      "Loss at iteration 2000: 2.27\n",
      "Loss at iteration 3000: 2.27\n",
      "Loss at iteration 4000: 2.26\n",
      "Loss at iteration 5000: 2.26\n",
      "Loss at iteration 6000: 2.26\n",
      "Loss at iteration 7000: 2.26\n",
      "Loss at iteration 8000: 2.26\n",
      "Loss at iteration 9000: 2.26\n"
     ]
    }
   ],
   "source": [
    "for i in range(10000):\n",
    "    loss = forward(layer, xenc, y)\n",
    "    layer.grad = None\n",
    "    loss.backward()\n",
    "    layer.data -= 0.1 * layer.grad\n",
    "    if i % 1000 == 0:\n",
    "        print(f\"Loss at iteration {i}: {loss.item():.2f}\")\n",
    "    loss_history.append(loss.item())"
   ]
  },
  {
   "cell_type": "code",
   "execution_count": null,
   "metadata": {},
   "outputs": [
    {
     "data": {
      "text/plain": [
       "[<matplotlib.lines.Line2D at 0x7fd560522020>]"
      ]
     },
     "execution_count": 164,
     "metadata": {},
     "output_type": "execute_result"
    },
    {
     "data": {
      "image/png": "[encoded data removed]",
      "text/plain": [
       "<Figure size 640x480 with 1 Axes>"
      ]
     },
     "metadata": {},
     "output_type": "display_data"
    }
   ],
   "source": [
    "plt.plot(loss_history)"
   ]
  },
  {
   "cell_type": "code",
   "execution_count": null,
   "metadata": {},
   "outputs": [
    {
     "data": {
      "text/plain": [
       "tensor([ 0.2138,  8.4388,  0.8021,  0.5385,  2.0631,  0.3442,  0.3227,  0.7369,\n",
       "         1.3815,  0.5675,  1.1072,  2.4110,  0.2927,  2.8797,  2.4770,  0.3865,\n",
       "         2.7280,  0.2044,  2.9256, 10.4059,  1.0793,  0.6638,  2.3538,  0.2506,\n",
       "         0.2036,  0.6265,  0.3615,  0.2198], grad_fn=<SelectBackward0>)"
      ]
     },
     "execution_count": 129,
     "metadata": {},
     "output_type": "execute_result"
    }
   ],
   "source": [
    "torch.exp(layer)[\n",
    "    0\n",
    "]  # analogous to bigram_array[0], but trained by gradient descent instead of counted"
   ]
  },
  {
   "cell_type": "code",
   "execution_count": null,
   "metadata": {},
   "outputs": [],
   "source": [
    "generator = torch.Generator().manual_seed(36)\n",
    "\n",
    "\n",
    "def predict(xenc, layer=layer, generator=generator):\n",
    "    \"\"\"Predicts the next character given a layer and a one-hot encoded character.\"\"\"\n",
    "    output = xenc @ layer\n",
    "    probs = torch.softmax(output, dim=0)\n",
    "    return torch.multinomial(probs, 1, generator=generator).item()"
   ]
  },
  {
   "cell_type": "code",
   "execution_count": null,
   "metadata": {},
   "outputs": [
    {
     "name": "stdout",
     "output_type": "stream",
     "text": [
      "sheeshiyal\n",
      "dindel\n",
      "ahishu\n",
      "su\n",
      "m\n",
      "aantasusubhai\n",
      "niketissuninanit\n",
      "shithara\n",
      "givai\n",
      "t\n"
     ]
    }
   ],
   "source": [
    "# Prediction loop\n",
    "for i in range(10):\n",
    "    word = \"^\"\n",
    "    start = torch.nn.functional.one_hot(\n",
    "        torch.tensor(char2int[word[-1]]), num_classes=28\n",
    "    ).float()\n",
    "    while True:\n",
    "        torch.no_grad()\n",
    "        next_index = predict(start)\n",
    "        next_char = int2char[next_index]\n",
    "        if next_char == \"^\":\n",
    "            continue\n",
    "        if next_char == \"$\":\n",
    "            break\n",
    "        start = torch.nn.functional.one_hot(\n",
    "            torch.tensor(next_index), num_classes=28\n",
    "        ).float()\n",
    "        word += next_char\n",
    "    print(word[1:])"
   ]
  },
  {
   "cell_type": "code",
   "execution_count": null,
   "metadata": {},
   "outputs": [],
   "source": [
    "# torch.save(layer, \"models/layer.pt\")"
   ]
  },
  {
   "attachments": {},
   "cell_type": "markdown",
   "metadata": {},
   "source": [
    "# Bengio embedding-based multi-gram neural net\n",
    "Based on https://www.jmlr.org/papers/volume3/bengio03a/bengio03a.pdf"
   ]
  },
  {
   "cell_type": "code",
   "execution_count": null,
   "metadata": {},
   "outputs": [],
   "source": [
    "# Length of look-back\n",
    "block_size = 3\n",
    "embedding_size = 2\n",
    "token_size = len(chars)"
   ]
  },
  {
   "cell_type": "code",
   "execution_count": null,
   "metadata": {},
   "outputs": [],
   "source": [
    "list_X, list_Y = [], []\n",
    "# Create list of all lookback blocks of block_size and their corresponding next character\n",
    "for name in train_names:\n",
    "    # Add start and end tokens (block_size of start tokens).\n",
    "    name_startend = (\"^\" * block_size) + name + \"$\"\n",
    "    # tokenise to list of ints\n",
    "    tokenised = [char2int[character] for character in name_startend]\n",
    "    for i in range(len(name + \"$\")):\n",
    "        list_X.append(tokenised[i : i + block_size])\n",
    "        list_Y.append(tokenised[i + block_size])"
   ]
  },
  {
   "cell_type": "code",
   "execution_count": null,
   "metadata": {},
   "outputs": [
    {
     "data": {
      "text/plain": [
       "(torch.Size([6950, 3]), torch.Size([6950]))"
      ]
     },
     "execution_count": 40,
     "metadata": {},
     "output_type": "execute_result"
    }
   ],
   "source": [
    "X = torch.tensor(list_X)\n",
    "y = torch.tensor(list_Y)\n",
    "X.shape, y.shape"
   ]
  },
  {
   "cell_type": "code",
   "execution_count": null,
   "metadata": {},
   "outputs": [],
   "source": [
    "# embedding layer - lookup table for each token (character) to a 2D vector\n",
    "generator = torch.Generator().manual_seed(36)\n",
    "C = torch.randn((token_size, embedding_size), generator=generator, requires_grad=True)\n",
    "\n",
    "# Hidden layer\n",
    "n_hidden = 100\n",
    "W1 = torch.randn(\n",
    "    (embedding_size * block_size, n_hidden), generator=generator, requires_grad=True\n",
    ")\n",
    "b1 = torch.randn((1, n_hidden), generator=generator, requires_grad=True)\n",
    "\n",
    "# Output layer\n",
    "W2 = torch.randn((n_hidden, token_size), generator=generator, requires_grad=True)\n",
    "b2 = torch.randn((1, token_size), generator=generator, requires_grad=True)\n",
    "\n",
    "layers = {\"W\": W1, \"b\": b1}, {\"W\": W2, \"b\": b2}"
   ]
  },
  {
   "cell_type": "code",
   "execution_count": null,
   "metadata": {},
   "outputs": [],
   "source": [
    "def forward_bengio(\n",
    "    X,\n",
    "    y,\n",
    "    C,\n",
    "    embedding_size=embedding_size,\n",
    "    block_size=block_size,\n",
    "    token_size=token_size,\n",
    "    *layers\n",
    "):\n",
    "    \"\"\"Forward pass of Bengio model.\"\"\"\n",
    "    # check sizes\n",
    "    # X is a tensor of shape (n_samples, block_size)\n",
    "    assert X.shape[1] == block_size\n",
    "    assert C.shape == (token_size, embedding_size)\n",
    "    assert layers[0][\"W\"].shape[0] == embedding_size * block_size\n",
    "    assert layers[0][\"b\"].shape[0] == 1\n",
    "    assert layers[0][\"W\"].shape[1] == layers[0][\"b\"].shape[1]\n",
    "    if len(layers) > 1:\n",
    "        for index, layer in enumerate(layers[1:]):\n",
    "            assert layer[\"W\"].shape[0] == layers[index][\"W\"].shape[1]\n",
    "            assert layer[\"b\"].shape[0] == 1\n",
    "            assert layer[\"W\"].shape[1] == layer[\"b\"].shape[1]\n",
    "    assert layers[-1][\"W\"].shape[1] == token_size\n",
    "    # Embedding lookup\n",
    "    embedding = C[X]  # (n_samples, block_size, embedding_size)\n",
    "    # Forward pass through each layer\n",
    "    # Use a view to manipulate the shape of the embedded tensor to stack up the blocks and have the correct shape for the matrix multiplication\n",
    "    # Views are efficient as they don't copy the data. This view happens to work (verified above)\n",
    "    hidden = (\n",
    "        embedding.view(-1, embedding.shape[1] * embedding.shape[2]) @ layers[0][\"W\"]\n",
    "        + layers[0][\"b\"]\n",
    "    )  # (n_samples, n_hidden)\n",
    "    if len(layers) > 1:\n",
    "        for layer in layers[1:]:\n",
    "            hidden = hidden @ layer[\"W\"] + layer[\"b\"]  # (n_samples, n_hidden)\n",
    "    # Softmax for probabilities\n",
    "    probs = torch.softmax(hidden, dim=1)  # (n_samples, token_size)\n",
    "    # CCE Loss\n",
    "    # Extract probabilities for correct characters (i.e. each character in y)\n",
    "    # for each row (each value in the arange), extract the yth value\n",
    "    prob_correct = probs[torch.arange(len(y)), y]\n",
    "    # log the probs and take the negative and mean. Add L2 regularisation\n",
    "    loss = -1 * torch.log(prob_correct).mean()\n",
    "    return loss"
   ]
  },
  {
   "cell_type": "code",
   "execution_count": null,
   "metadata": {},
   "outputs": [
    {
     "name": "stdout",
     "output_type": "stream",
     "text": [
      "Loss at iteration 0: nan\n",
      "Loss at iteration 100: nan\n",
      "Loss at iteration 200: nan\n",
      "Loss at iteration 300: nan\n",
      "Loss at iteration 400: nan\n",
      "Loss at iteration 500: nan\n",
      "Loss at iteration 600: nan\n",
      "Loss at iteration 700: nan\n",
      "Loss at iteration 800: nan\n",
      "Loss at iteration 900: nan\n"
     ]
    }
   ],
   "source": [
    "# Backprop\n",
    "param_list = [C] + [layer[\"W\"] for layer in layers] + [layer[\"b\"] for layer in layers]\n",
    "loss_history_bengio = []\n",
    "for i in range(1000):\n",
    "    loss = forward_bengio(X, y, C, embedding_size, block_size, token_size, *layers)\n",
    "    for param in param_list:\n",
    "        param.grad = None\n",
    "    loss.backward()\n",
    "    for param in param_list:\n",
    "        param.data -= 0.1 * param.grad\n",
    "    loss_history_bengio.append(loss.item())\n",
    "    if i % 100 == 0:\n",
    "        print(f\"Loss at iteration {i}: {loss.item():.2f}\")"
   ]
  },
  {
   "cell_type": "code",
   "execution_count": null,
   "metadata": {},
   "outputs": [
    {
     "data": {
      "text/plain": [
       "tensor(inf, grad_fn=<MulBackward0>)"
      ]
     },
     "execution_count": 45,
     "metadata": {},
     "output_type": "execute_result"
    }
   ],
   "source": [
    "loss"
   ]
  },
  {
   "cell_type": "code",
   "execution_count": null,
   "metadata": {},
   "outputs": [],
   "source": []
  }
 ],
 "metadata": {
  "kernelspec": {
   "display_name": "makemore",
   "language": "python",
   "name": "python3"
  },
  "language_info": {
   "codemirror_mode": {
    "name": "ipython",
    "version": 3
   },
   "file_extension": ".py",
   "mimetype": "text/x-python",
   "name": "python",
   "nbconvert_exporter": "python",
   "pygments_lexer": "ipython3",
   "version": "3.10.11"
  },
  "orig_nbformat": 4
 },
 "nbformat": 4,
 "nbformat_minor": 2
}
