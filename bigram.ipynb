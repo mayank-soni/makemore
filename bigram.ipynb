{
 "cells": [
  {
   "cell_type": "code",
   "execution_count": 16,
   "metadata": {},
   "outputs": [],
   "source": [
    "%reload_ext autoreload\n",
    "%autoreload 2"
   ]
  },
  {
   "cell_type": "code",
   "execution_count": 17,
   "metadata": {},
   "outputs": [],
   "source": [
    "import matplotlib.pyplot as plt\n",
    "import torch\n",
    "\n",
    "from src.config import DATA_DIR, ROOT_DIR, ENDS, DEFAULT_CHARS\n",
    "from src.data.names import Names\n",
    "from src.bigram.bigram import BigramModel\n",
    "from src.nnet.nnet import BigramNnet"
   ]
  },
  {
   "attachments": {},
   "cell_type": "markdown",
   "metadata": {},
   "source": [
    "# Data"
   ]
  },
  {
   "cell_type": "code",
   "execution_count": 18,
   "metadata": {},
   "outputs": [],
   "source": [
    "# def create_female_name_database():\n",
    "#     # Get list of relevant filenames\n",
    "#     files = [\n",
    "#         filename\n",
    "#         for filename in os.listdir(DATA_DIR)\n",
    "#         if filename.endswith(\".txt\") and filename.startswith(\"yob\")\n",
    "#     ]\n",
    "#     all_data = {}\n",
    "#     # Read each file\n",
    "#     for filename in files:\n",
    "#         with open(DATA_DIR / filename) as f:\n",
    "#             for line in f:\n",
    "#                 line_data = line.strip().lower().split(\",\")\n",
    "#                 # Select only female names from each file\n",
    "#                 if line_data[1] == \"f\":\n",
    "#                     count = int(line_data[2])\n",
    "#                     if line_data[0] in all_data:\n",
    "#                         all_data[line_data[0]] += count\n",
    "#                     else:\n",
    "#                         all_data[line_data[0]] = count\n",
    "#     # Write to new file\n",
    "#     with open(DATA_DIR / \"all_names.txt\", \"w\") as f:\n",
    "#         for name, count in all_data.items():\n",
    "#             f.write(f\"{name},{count}\\n\")\n",
    "\n",
    "\n",
    "# create_female_name_database()"
   ]
  },
  {
   "cell_type": "code",
   "execution_count": 19,
   "metadata": {},
   "outputs": [],
   "source": [
    "female_names = Names.from_file(DATA_DIR / \"all_names.txt\", counts=True)"
   ]
  },
  {
   "cell_type": "code",
   "execution_count": 20,
   "metadata": {},
   "outputs": [
    {
     "data": {
      "text/plain": [
       "4.000181431594353"
      ]
     },
     "execution_count": 20,
     "metadata": {},
     "output_type": "execute_result"
    }
   ],
   "source": [
    "female_names.train_test_split(0.8)\n",
    "sum(female_names.train.values()) / sum(female_names.test.values())"
   ]
  },
  {
   "cell_type": "code",
   "execution_count": 21,
   "metadata": {},
   "outputs": [
    {
     "name": "stdout",
     "output_type": "stream",
     "text": [
      "Max length:  15\n",
      "Min length:  2\n",
      "Avg length:  6.0008862761227455\n"
     ]
    },
    {
     "data": {
      "image/png": "[encoded data removed]",
      "text/plain": [
       "<Figure size 640x480 with 1 Axes>"
      ]
     },
     "metadata": {},
     "output_type": "display_data"
    }
   ],
   "source": [
    "female_names.eda()"
   ]
  },
  {
   "attachments": {},
   "cell_type": "markdown",
   "metadata": {},
   "source": [
    "# Bigram model"
   ]
  },
  {
   "cell_type": "code",
   "execution_count": 22,
   "metadata": {},
   "outputs": [],
   "source": [
    "female_names.train_bigrams = Names.to_bigrams(female_names.train)"
   ]
  },
  {
   "cell_type": "code",
   "execution_count": 23,
   "metadata": {},
   "outputs": [],
   "source": [
    "model = BigramModel()\n",
    "model.train(female_names.train_bigrams, female_names.chars)\n",
    "# model.visualise()"
   ]
  },
  {
   "attachments": {},
   "cell_type": "markdown",
   "metadata": {},
   "source": [
    "## Calculating losses"
   ]
  },
  {
   "cell_type": "code",
   "execution_count": 24,
   "metadata": {},
   "outputs": [
    {
     "data": {
      "text/plain": [
       "{'baseline_train_loss': tensor(3.2958),\n",
       " 'baseline_test_loss': tensor(3.2958),\n",
       " 'model_train_loss': tensor(2.2022),\n",
       " 'model_test_loss': tensor(2.3570)}"
      ]
     },
     "execution_count": 24,
     "metadata": {},
     "output_type": "execute_result"
    }
   ],
   "source": [
    "female_names.test_bigrams = Names.to_bigrams(female_names.test)\n",
    "model.evaluate(female_names.test_bigrams)"
   ]
  },
  {
   "cell_type": "code",
   "execution_count": 25,
   "metadata": {},
   "outputs": [
    {
     "data": {
      "text/plain": [
       "tensor(2.6593)"
      ]
     },
     "execution_count": 25,
     "metadata": {},
     "output_type": "execute_result"
    }
   ],
   "source": [
    "random_name = Names.from_dict({\"ruby\": 1})\n",
    "random_name_bigram = Names.to_bigrams(random_name.data)\n",
    "random_bigram_array = model.create_bigram_array(random_name_bigram, model.charlist, 0)[\n",
    "    0\n",
    "]\n",
    "model.loss(random_bigram_array, model.bigram_probs)"
   ]
  },
  {
   "attachments": {},
   "cell_type": "markdown",
   "metadata": {},
   "source": [
    "## Train on full dataset"
   ]
  },
  {
   "cell_type": "code",
   "execution_count": 26,
   "metadata": {},
   "outputs": [],
   "source": [
    "female_names.all_bigrams = Names.to_bigrams(female_names.data)\n",
    "model.train(female_names.all_bigrams, female_names.chars)"
   ]
  },
  {
   "cell_type": "code",
   "execution_count": 27,
   "metadata": {},
   "outputs": [],
   "source": [
    "torch.save(model, ROOT_DIR / \"models\" / \"bigram.pt\")"
   ]
  },
  {
   "attachments": {},
   "cell_type": "markdown",
   "metadata": {},
   "source": [
    "## Prediction"
   ]
  },
  {
   "cell_type": "code",
   "execution_count": 28,
   "metadata": {},
   "outputs": [
    {
     "name": "stdout",
     "output_type": "stream",
     "text": [
      "costaury\n",
      "e\n",
      "cevelonnare\n",
      "jostelich\n",
      "stiarce\n",
      "cqun\n",
      "ke\n",
      "doreride\n",
      "emman\n",
      "kry\n",
      "bonia\n",
      "mistia\n",
      "brolmama\n",
      "eann\n",
      "cooniendrlofria\n",
      "dis\n",
      "mie\n",
      "celil\n",
      "visie\n",
      "ka\n",
      "dirben\n",
      "t\n",
      "ph\n",
      "mugiaydra\n",
      "tta\n",
      "ann\n",
      "milea\n",
      "cathanelodrisutendan\n",
      "geuteya\n",
      "ria\n"
     ]
    }
   ],
   "source": [
    "model = torch.load(ROOT_DIR / \"models\" / \"bigram.pt\")\n",
    "generator = torch.Generator().manual_seed(36)\n",
    "for _ in range(30):\n",
    "    print(model.predict(generator=generator))"
   ]
  },
  {
   "attachments": {},
   "cell_type": "markdown",
   "metadata": {},
   "source": [
    "# Bigram Neural Net"
   ]
  },
  {
   "attachments": {},
   "cell_type": "markdown",
   "metadata": {},
   "source": [
    "## Transform data"
   ]
  },
  {
   "cell_type": "code",
   "execution_count": 29,
   "metadata": {},
   "outputs": [],
   "source": [
    "# Get char to index mappings\n",
    "mapping_i2c, mapping_c2i = BigramModel.get_mapping(female_names.chars)\n",
    "# Get data in the form of input/output tensors and weight tensors\n",
    "(\n",
    "    female_names.x_train,\n",
    "    female_names.y_train,\n",
    "    female_names.weights_train,\n",
    ") = Names.to_bigram_tensor(female_names.train_bigrams, mapping_c2i)\n",
    "\n",
    "# Get test set in form of tensors\n",
    "(\n",
    "    female_names.x_test,\n",
    "    female_names.y_test,\n",
    "    female_names.weights_test,\n",
    ") = Names.to_bigram_tensor(female_names.test_bigrams, mapping_c2i)"
   ]
  },
  {
   "attachments": {},
   "cell_type": "markdown",
   "metadata": {},
   "source": [
    "## Train"
   ]
  },
  {
   "cell_type": "code",
   "execution_count": 30,
   "metadata": {},
   "outputs": [
    {
     "name": "stdout",
     "output_type": "stream",
     "text": [
      "Epoch 0: Train loss = 3.7156314849853516\n",
      "Val loss = 3.7295730113983154\n"
     ]
    },
    {
     "name": "stdout",
     "output_type": "stream",
     "text": [
      "Epoch 10000: Train loss = 2.9877021312713623\n",
      "Val loss = 3.0599329471588135\n",
      "Epoch 20000: Train loss = 2.726703405380249\n",
      "Val loss = 2.824694871902466\n",
      "Epoch 30000: Train loss = 2.5877182483673096\n",
      "Val loss = 2.7014594078063965\n",
      "Epoch 40000: Train loss = 2.5030367374420166\n",
      "Val loss = 2.6272778511047363\n",
      "Epoch 50000: Train loss = 2.4478511810302734\n",
      "Val loss = 2.5789833068847656\n",
      "Epoch 60000: Train loss = 2.409416437149048\n",
      "Val loss = 2.5451502799987793\n",
      "Epoch 70000: Train loss = 2.3810648918151855\n",
      "Val loss = 2.5200209617614746\n",
      "Epoch 80000: Train loss = 2.359269380569458\n",
      "Val loss = 2.5006353855133057\n",
      "Epoch 90000: Train loss = 2.3420042991638184\n",
      "Val loss = 2.48525333404541\n"
     ]
    }
   ],
   "source": [
    "# Initialise neural net\n",
    "bigram_nnet = BigramNnet([len(DEFAULT_CHARS), len(DEFAULT_CHARS)], biases=False, reg=0)\n",
    "# Train the model\n",
    "bigram_nnet.train(\n",
    "    x=female_names.x_train,\n",
    "    y=female_names.y_train,\n",
    "    weights=female_names.weights_train,\n",
    "    val_x=female_names.x_test,\n",
    "    val_y=female_names.y_test,\n",
    "    val_weights=female_names.weights_test,\n",
    "    epochs=100000,\n",
    "    lr=0.01,\n",
    ")"
   ]
  },
  {
   "cell_type": "code",
   "execution_count": 32,
   "metadata": {},
   "outputs": [
    {
     "name": "stdout",
     "output_type": "stream",
     "text": [
      "Epoch 0: Train loss = 3.7156314849853516\n",
      "Val loss = 3.7295730113983154\n",
      "Epoch 10000: Train loss = 2.4478416442871094\n",
      "Val loss = 2.5789759159088135\n",
      "Epoch 20000: Train loss = 2.3280067443847656\n",
      "Val loss = 2.4728176593780518\n",
      "Epoch 30000: Train loss = 2.2857651710510254\n",
      "Val loss = 2.435734987258911\n",
      "Epoch 40000: Train loss = 2.2649986743927\n",
      "Val loss = 2.418121337890625\n",
      "Epoch 50000: Train loss = 2.2525687217712402\n",
      "Val loss = 2.40773344039917\n",
      "Epoch 60000: Train loss = 2.244189977645874\n",
      "Val loss = 2.4006450176239014\n",
      "Epoch 70000: Train loss = 2.2381136417388916\n",
      "Val loss = 2.3953726291656494\n",
      "Epoch 80000: Train loss = 2.233485698699951\n",
      "Val loss = 2.391230344772339\n",
      "Epoch 90000: Train loss = 2.2298362255096436\n",
      "Val loss = 2.387864589691162\n"
     ]
    }
   ],
   "source": [
    "# Initialise neural net\n",
    "bigram_nnet = BigramNnet([len(DEFAULT_CHARS), len(DEFAULT_CHARS)], biases=False, reg=0)\n",
    "bigram_nnet.train(\n",
    "    x=female_names.x_train,\n",
    "    y=female_names.y_train,\n",
    "    weights=female_names.weights_train,\n",
    "    val_x=female_names.x_test,\n",
    "    val_y=female_names.y_test,\n",
    "    val_weights=female_names.weights_test,\n",
    "    epochs=100000,\n",
    "    lr=0.05,\n",
    ")"
   ]
  },
  {
   "cell_type": "code",
   "execution_count": 33,
   "metadata": {},
   "outputs": [
    {
     "data": {
      "text/plain": [
       "<matplotlib.legend.Legend at 0x7fbb17f3d900>"
      ]
     },
     "execution_count": 33,
     "metadata": {},
     "output_type": "execute_result"
    },
    {
     "data": {
      "image/png": "[encoded data removed]",
      "text/plain": [
       "<Figure size 640x480 with 1 Axes>"
      ]
     },
     "metadata": {},
     "output_type": "display_data"
    }
   ],
   "source": [
    "# Plot the loss history\n",
    "plt.plot(bigram_nnet.loss_history[\"train\"], label=\"Train\")\n",
    "plt.plot(bigram_nnet.loss_history[\"test\"], label=\"Test\")\n",
    "plt.xlabel(\"Epoch\")\n",
    "plt.ylabel(\"Loss\")\n",
    "plt.legend()"
   ]
  },
  {
   "attachments": {},
   "cell_type": "markdown",
   "metadata": {},
   "source": [
    "The bigram model's bigram_array is a 2D lookup table giving us the probabilities of each character following the previous character. \n",
    "\n",
    "The simple 1-layer neural net using one-hot encoding is also equivalent to a 2D lookup table, but instead of being trained by counting, it's trained by gradient descent.\n",
    " - The input being a one-hot encoding (0s everywhere, with a single 1) means that when multiplied by the weights, we get the row of the weights corresponding to the input character.\n",
    " - However, the weights don't correspond directly to probabilities, since we apply a softmax i.e. we need to take their exponent to get counts and normalise to get probabilities\n",
    "\n",
    " The two tensors below which both represent probabilities given a first character of a are roughly equivalent"
   ]
  },
  {
   "cell_type": "code",
   "execution_count": 34,
   "metadata": {},
   "outputs": [
    {
     "data": {
      "text/plain": [
       "tensor([1.1989e-03, 2.3257e-02, 2.0507e-02, 1.8542e-02, 5.3319e-03, 2.7790e-04,\n",
       "        3.3827e-03, 2.6770e-02, 2.2687e-02, 4.6566e-04, 3.6434e-03, 5.0748e-02,\n",
       "        3.4807e-02, 1.7477e-01, 1.2802e-03, 1.8968e-03, 6.8835e-04, 1.3712e-01,\n",
       "        1.6145e-02, 4.7070e-02, 2.0582e-02, 7.2456e-03, 3.0219e-03, 7.3399e-04,\n",
       "        2.1127e-02, 3.1946e-03, 3.5351e-01])"
      ]
     },
     "execution_count": 34,
     "metadata": {},
     "output_type": "execute_result"
    }
   ],
   "source": [
    "a = model.bigram_probs[0]\n",
    "a"
   ]
  },
  {
   "cell_type": "code",
   "execution_count": 36,
   "metadata": {},
   "outputs": [
    {
     "data": {
      "text/plain": [
       "tensor([0.0016, 0.0233, 0.0214, 0.0195, 0.0054, 0.0012, 0.0037, 0.0284, 0.0222,\n",
       "        0.0013, 0.0036, 0.0469, 0.0311, 0.1738, 0.0018, 0.0023, 0.0013, 0.1345,\n",
       "        0.0172, 0.0450, 0.0219, 0.0076, 0.0029, 0.0014, 0.0180, 0.0033, 0.3593],\n",
       "       grad_fn=<SoftmaxBackward0>)"
      ]
     },
     "execution_count": 36,
     "metadata": {},
     "output_type": "execute_result"
    }
   ],
   "source": [
    "# analogous to bigram_probs[0], but trained by gradient descent instead of counted\n",
    "b = torch.softmax(bigram_nnet.layers[0][\"W\"][0], dim=0)\n",
    "b"
   ]
  },
  {
   "cell_type": "code",
   "execution_count": 37,
   "metadata": {},
   "outputs": [
    {
     "data": {
      "text/plain": [
       "tensor([True, True, True, True, True, True, True, True, True, True, True, True,\n",
       "        True, True, True, True, True, True, True, True, True, True, True, True,\n",
       "        True, True, True])"
      ]
     },
     "execution_count": 37,
     "metadata": {},
     "output_type": "execute_result"
    }
   ],
   "source": [
    "# Equal within an absolute tolerance of 0.01\n",
    "torch.isclose(a, b, atol=0.01)"
   ]
  },
  {
   "attachments": {},
   "cell_type": "markdown",
   "metadata": {},
   "source": [
    "## Re-train (from scratch) on full dataset"
   ]
  },
  {
   "cell_type": "code",
   "execution_count": 38,
   "metadata": {},
   "outputs": [],
   "source": [
    "# Get full dataset in form of tensors\n",
    "(\n",
    "    female_names.x,\n",
    "    female_names.y,\n",
    "    female_names.weights,\n",
    ") = Names.to_bigram_tensor(female_names.all_bigrams, mapping_c2i)"
   ]
  },
  {
   "cell_type": "code",
   "execution_count": 39,
   "metadata": {},
   "outputs": [
    {
     "name": "stdout",
     "output_type": "stream",
     "text": [
      "Epoch 0: Train loss = 3.7184641361236572\n",
      "Epoch 10000: Train loss = 2.469008684158325\n",
      "Epoch 20000: Train loss = 2.3484549522399902\n",
      "Epoch 30000: Train loss = 2.3060531616210938\n",
      "Epoch 40000: Train loss = 2.2849323749542236\n",
      "Epoch 50000: Train loss = 2.272319793701172\n",
      "Epoch 60000: Train loss = 2.263889789581299\n",
      "Epoch 70000: Train loss = 2.257829427719116\n",
      "Epoch 80000: Train loss = 2.253242254257202\n",
      "Epoch 90000: Train loss = 2.2496376037597656\n"
     ]
    }
   ],
   "source": [
    "# Initialise neural net\n",
    "bigram_nnet = BigramNnet([len(DEFAULT_CHARS), len(DEFAULT_CHARS)], biases=False, reg=0)\n",
    "# Train the model\n",
    "bigram_nnet.train(\n",
    "    x=female_names.x,\n",
    "    y=female_names.y,\n",
    "    weights=female_names.weights,\n",
    "    epochs=100000,\n",
    "    lr=0.05,\n",
    ")"
   ]
  },
  {
   "cell_type": "code",
   "execution_count": 40,
   "metadata": {},
   "outputs": [
    {
     "data": {
      "text/plain": [
       "Text(0, 0.5, 'Loss')"
      ]
     },
     "execution_count": 40,
     "metadata": {},
     "output_type": "execute_result"
    },
    {
     "data": {
      "image/png": "[encoded data removed]",
      "text/plain": [
       "<Figure size 640x480 with 1 Axes>"
      ]
     },
     "metadata": {},
     "output_type": "display_data"
    }
   ],
   "source": [
    "# Plot the loss history\n",
    "plt.plot(bigram_nnet.loss_history[\"train\"])\n",
    "plt.xlabel(\"Epoch\")\n",
    "plt.ylabel(\"Loss\")"
   ]
  },
  {
   "cell_type": "code",
   "execution_count": 41,
   "metadata": {},
   "outputs": [],
   "source": [
    "torch.save(bigram_nnet, ROOT_DIR / \"models\" / \"bigram_nnet.pt\")"
   ]
  },
  {
   "attachments": {},
   "cell_type": "markdown",
   "metadata": {},
   "source": [
    "## Generate"
   ]
  },
  {
   "cell_type": "code",
   "execution_count": 42,
   "metadata": {},
   "outputs": [],
   "source": [
    "bigram_nnet = torch.load(ROOT_DIR / \"models\" / \"bigram_nnet.pt\")"
   ]
  },
  {
   "cell_type": "code",
   "execution_count": 43,
   "metadata": {},
   "outputs": [
    {
     "name": "stdout",
     "output_type": "stream",
     "text": [
      "costaury\n",
      "e\n",
      "cevellynare\n",
      "jostelich\n",
      "stiarce\n",
      "cqusale\n",
      "doreride\n",
      "emman\n",
      "kiqqusama\n",
      "msttia\n",
      "brolmama\n",
      "eann\n",
      "cooniendrlofria\n",
      "dis\n",
      "mxe\n",
      "celil\n",
      "visie\n",
      "ka\n",
      "dirben\n",
      "t\n",
      "ph\n",
      "mbgiaydfa\n",
      "tta\n",
      "ann\n",
      "miuda\n",
      "cathanelodlisutendan\n",
      "\n",
      "tuteya\n",
      "ria\n",
      "rimarielicahanandiniane\n"
     ]
    }
   ],
   "source": [
    "generator = torch.Generator().manual_seed(36)\n",
    "\n",
    "for _ in range(30):\n",
    "    print(\n",
    "        bigram_nnet.generate(\n",
    "            mapping_i2c=mapping_i2c, ends_index=mapping_c2i[ENDS], generator=generator\n",
    "        )\n",
    "    )"
   ]
  }
 ],
 "metadata": {
  "kernelspec": {
   "display_name": "makemore",
   "language": "python",
   "name": "python3"
  },
  "language_info": {
   "codemirror_mode": {
    "name": "ipython",
    "version": 3
   },
   "file_extension": ".py",
   "mimetype": "text/x-python",
   "name": "python",
   "nbconvert_exporter": "python",
   "pygments_lexer": "ipython3",
   "version": "3.10.11"
  },
  "orig_nbformat": 4
 },
 "nbformat": 4,
 "nbformat_minor": 2
}
